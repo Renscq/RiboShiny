{
  "cells": [
    {
      "cell_type": "raw",
      "metadata": {},
      "source": [
        "---\n",
        "title: Untitled\n",
        "format: html\n",
        "editor: visual\n",
        "---"
      ],
      "id": "cf18abeb"
    },
    {
      "cell_type": "markdown",
      "metadata": {},
      "source": [
        "## Quarto\n",
        "\n",
        "Quarto enables you to weave together content and executable code into a finished document. To learn more about Quarto see <https://quarto.org>.\n",
        "\n",
        "## Running Code\n",
        "\n",
        "When you click the **Render** button a document will be generated that includes both content and the output of embedded code. You can embed code like this:\n"
      ],
      "id": "1792c487"
    },
    {
      "cell_type": "code",
      "metadata": {},
      "source": [
        "import numpy as np\n",
        "\n",
        "a = np.zeros(10)\n",
        "\n",
        "print(a)\n",
        "\n",
        "a[[1,2,3]] += 1\n",
        "\n",
        "print(a)"
      ],
      "id": "eafe201f",
      "execution_count": null,
      "outputs": []
    },
    {
      "cell_type": "markdown",
      "metadata": {},
      "source": [
        "You can add options to executable code like this\n"
      ],
      "id": "54809837"
    },
    {
      "cell_type": "code",
      "metadata": {},
      "source": [
        "map_start = 120\n",
        "map_end = 190\n",
        "\n",
        "p_site_list = np.arange(map_start, map_end, 32)\n",
        "\n",
        "print(p_site_list)"
      ],
      "id": "93cb92fe",
      "execution_count": null,
      "outputs": []
    },
    {
      "cell_type": "code",
      "metadata": {},
      "source": [
        "import pandas as pd\n",
        "import numpy as np\n",
        "\n",
        "data = {'A': [1, 2, 3, 4, 5],\n",
        "        'B': ['a', 'b', 'c', 'd', 'e'],\n",
        "        'C': ['x', 'y', 'z', 'u', 'v']}\n",
        "df = pd.DataFrame(data)\n",
        "\n",
        "\n",
        "random_index = np.random.permutation(df.index)\n",
        "\n",
        "df = df.iloc[random_index].reset_index(drop=True)\n",
        "\n",
        "print(df)\n"
      ],
      "id": "1ee2b69c",
      "execution_count": null,
      "outputs": []
    },
    {
      "cell_type": "markdown",
      "metadata": {},
      "source": [
        "```{R}\n",
        "require(ggplot2)\n",
        "require(minpack.lm)\n",
        "require(RColorBrewer)\n",
        "require(tidyverse)\n",
        "\n",
        "# import the data\n",
        "# C:\\Users\\rensc\\Desktop\\test\\RiboParser\\data\\cov\n",
        "cov_table <- read.table(\"C:/Users/rensc/Desktop/test/RiboParser/data/cov/ncr_cov_CoV.txt\", header = T, sep = \"\\t\")\n",
        "\n",
        "\n",
        "flt_sum_table <- cov_table %>% \n",
        "  dplyr::select(name, contains(\"_sum\")) %>%\n",
        "  dplyr::rename_with(~str_remove(., \"_sum\"), contains(\"_sum\")) %>% \n",
        "  tidyr::pivot_longer(cols = -name, names_to = \"Sample\", values_to = \"Sum\") %>%\n",
        "  dplyr::group_by(name, Sample) %>% \n",
        "  dplyr::reframe(Sum = mean(Sum)) %>% \n",
        "  dplyr::mutate(log2Sum = log2(Sum))\n",
        "\n",
        "flt_mean_table <- cov_table %>% \n",
        "  dplyr::select(name, contains(\"_mean\")) %>%\n",
        "  dplyr::rename_with(~str_remove(., \"_mean\"), contains(\"_mean\")) %>% \n",
        "  tidyr::pivot_longer(cols = -name, names_to = \"Sample\", values_to = \"Mean\") %>%\n",
        "  dplyr::group_by(name, Sample) %>% \n",
        "  dplyr::reframe(Mean = mean(Mean)) %>% \n",
        "  dplyr::mutate(log2Mean = log2(Mean))\n",
        "\n",
        "flt_cov_table <- cov_table %>% \n",
        "  dplyr::select(name, contains(\"_CoV\")) %>%\n",
        "  dplyr::rename_with(~str_remove(., \"_CoV\"), contains(\"_CoV\")) %>% \n",
        "  tidyr::pivot_longer(cols = -name, names_to = \"Sample\", values_to = \"CoV\") %>%\n",
        "  dplyr::group_by(name, Sample) %>% \n",
        "  dplyr::reframe(CoV = mean(CoV)) %>% \n",
        "  dplyr::mutate(log2CoV = log2(CoV))\n",
        "\n",
        "melt_cov_table <- flt_sum_table %>%\n",
        "  dplyr::left_join(flt_mean_table, by = c('name', 'Sample')) %>% \n",
        "  dplyr::left_join(flt_cov_table, by = c('name', 'Sample')) %>% \n",
        "  na.omit()\n",
        "\n",
        "```\n",
        "\n",
        "```{r}\n",
        "\n",
        "nonlinear_model <- function(mu, alpha, beta) {\n",
        "  return(0.5 * log2((beta / mu) + alpha))\n",
        "}\n",
        "\n",
        "ggplot(data = melt_cov_table,\n",
        "         mapping = aes(x = log2Mean, y = log2CoV, color = Sample, fill = Sample)) + \n",
        "      geom_point(shape = 21, alpha = 0.2, colour = \"white\") +\n",
        "      geom_smooth(method = \"nlsLM\", \n",
        "                  formula = y ~ nonlinear_model(2^(x), alpha, beta),\n",
        "                  method.args = list(start = c(alpha = 1, beta = 1)), \n",
        "                  se = F, \n",
        "                  alpha = 0.9,\n",
        "                  linewidth = 2)\n",
        "\n",
        "```\n",
        "\n",
        "```{r}\n",
        "\n",
        "melt_cov_table_ave <- melt_cov_table %>% \n",
        "  dplyr::mutate(Group = str_sub(Sample, start = 1, end = 4)) %>% \n",
        "  dplyr::group_by(Group, name) %>%\n",
        "  dplyr::reframe(log2Mean = mean(log2Mean), log2CoV = mean(log2CoV))\n",
        "\n",
        "ggplot(data = melt_cov_table_ave,\n",
        "         mapping = aes(x = log2Mean, y = log2CoV, color = Group, fill = Group)) + \n",
        "      geom_point(shape = 21, alpha = 0.2, colour = \"white\") +\n",
        "      geom_smooth(method = \"nlsLM\", \n",
        "                  formula = y ~ nonlinear_model(2^(x), alpha, beta),\n",
        "                  method.args = list(start = c(alpha = 1, beta = 1)), \n",
        "                  se = F, \n",
        "                  alpha = 0.9,\n",
        "                  linewidth = 1)\n",
        "\n",
        "```"
      ],
      "id": "a16fc07e"
    }
  ],
  "metadata": {
    "kernelspec": {
      "display_name": "Python 3",
      "language": "python",
      "name": "python3"
    }
  },
  "nbformat": 4,
  "nbformat_minor": 5
}